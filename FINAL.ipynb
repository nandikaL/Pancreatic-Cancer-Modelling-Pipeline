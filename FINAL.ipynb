{
 "cells": [
  {
   "cell_type": "markdown",
   "id": "a38b8287-2765-4e78-8ff3-6ebf8f1811ac",
   "metadata": {},
   "source": [
    "# Predicticing Diagnosis of Pancriatic Cancer from Urinary Biomarkers\n",
    "\n",
    "[Pancreatic cancer, biomarkers etc etc\n",
    "\n",
    "Include clinical evidence explaining why the chosen data and/or predictors are\n",
    "appropriate for diagnosing the selected disease. Include the source of data.\n",
    "Top marks will be given where:\n",
    "• The rationale for selecting the disease and dataset is clearly explained with\n",
    "supporting clinical evidence.\n",
    "• The source of the dataset is properly cited, and the dataset is relevant and\n",
    "appropriate for the diagnosis task.\n",
    "• The choice of predictors (features) is justified based on medical literature or domain\n",
    "knowledge."
   ]
  },
  {
   "cell_type": "code",
   "execution_count": null,
   "id": "0bf4b59f-1f3d-49d8-ab42-fbef8eabf56b",
   "metadata": {},
   "outputs": [],
   "source": [
    "#Imports \n",
    "import pandas as pd\n",
    "import numpy as np\n",
    "import matplotlib.pyplot as plt\n",
    "import seaborn as sns\n",
    "from PIL import Image\n",
    "from scipy.stats import f_oneway\n",
    "from sklearn.model_selection import GroupShuffleSplit\n",
    "from sklearn.model_selection import train_test_split\n",
    "from sklearn.linear_model import LogisticRegression\n",
    "from sklearn.metrics import confusion_matrix\n",
    "from sklearn.metrics import accuracy_score, classification_report\n",
    "from sklearn.ensemble import RandomForestClassifier\n",
    "from sklearn.model_selection import GridSearchCV\n",
    "from sklearn.metrics import make_scorer, recall_score, f1_score\n",
    "from catboost import CatBoostClassifier\n",
    "from matplotlib.colors import LinearSegmentedColormap"
   ]
  },
  {
   "cell_type": "code",
   "execution_count": null,
   "id": "31fbbc41-9c3d-4b67-9b09-277923dd263b",
   "metadata": {},
   "outputs": [],
   "source": [
    "custom_cmap = LinearSegmentedColormap.from_list(\"adjusted_heatmap\", ['#f3f0ff', '#d0bdf4', '#f3a683', '#e78ea9'])"
   ]
  },
  {
   "cell_type": "code",
   "execution_count": null,
   "id": "57df4629-777d-4893-968e-c1b8fb217924",
   "metadata": {},
   "outputs": [],
   "source": [
    "#load into pandas df\n",
    "df = pd.read_csv('pancreatic_c.csv')\n",
    "#view the columns in the dataset\n",
    "print(df.columns.tolist())"
   ]
  },
  {
   "cell_type": "code",
   "execution_count": null,
   "id": "343e0c5b-60f5-4783-9775-df8bc59ccbc2",
   "metadata": {},
   "outputs": [],
   "source": [
    "df"
   ]
  },
  {
   "cell_type": "code",
   "execution_count": null,
   "id": "f7d54ce3-5e03-4b6a-be10-df8539453eae",
   "metadata": {},
   "outputs": [],
   "source": [
    "stage_grouped = {\n",
    "    'I': 'Stage I',\n",
    "    'IA': 'Stage I',\n",
    "    'IB': 'Stage I',\n",
    "    'II': 'Stage II',\n",
    "    'IIA': 'Stage II',\n",
    "    'IIB': 'Stage IIB',\n",
    "    'III': 'Stage III',\n",
    "    'IV': 'Stage IV'\n",
    "}\n",
    "\n",
    "# Apply the mapping\n",
    "df['stage_new'] = df['stage'].map(stage_grouped)\n",
    "\n",
    "# Confirm result\n",
    "print(\"New stages:\", df['stage_new'].value_counts())"
   ]
  },
  {
   "cell_type": "code",
   "execution_count": null,
   "id": "dabae1f0-c5f2-41fe-870b-7cacb2fbfb89",
   "metadata": {},
   "outputs": [],
   "source": []
  }
 ],
 "metadata": {
  "kernelspec": {
   "display_name": "Python 3 (ipykernel)",
   "language": "python",
   "name": "python3"
  },
  "language_info": {
   "codemirror_mode": {
    "name": "ipython",
    "version": 3
   },
   "file_extension": ".py",
   "mimetype": "text/x-python",
   "name": "python",
   "nbconvert_exporter": "python",
   "pygments_lexer": "ipython3",
   "version": "3.12.4"
  }
 },
 "nbformat": 4,
 "nbformat_minor": 5
}
